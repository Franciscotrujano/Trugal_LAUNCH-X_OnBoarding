{
 "cells": [
  {
   "cell_type": "markdown",
   "metadata": {},
   "source": [
    "\n",
    "# Ejercicio: Uso de funciones en Python\n",
    "Ejercicio 1: Trabajar con argumentos en funciones\n",
    "\n",
    "Los argumentos requeridos en las funciones se utilizan cuando las funciones necesitan que esos argumentos funcionen correctamente. En este ejercicio, construirás un informe de combustible que requiere información de varias ubicaciones de combustible en todo el cohete.\n",
    "\n",
    "\n",
    "    TIP Dedica unos minutos para tratar de encontrar una solución. Luego desplázate hacia abajo hasta la parte inferior para ver si has logrado compilar el programa de acuerdo con las especificaciones\n",
    "\n",
    "Comienza por crear una función que necesite tres lecturas de combustible y devuelva un informe:\n",
    "\n"
   ]
  },
  {
   "cell_type": "code",
   "execution_count": 38,
   "metadata": {},
   "outputs": [
    {
     "name": "stdout",
     "output_type": "stream",
     "text": [
      "Reporte\n",
      "    Promedio: 69.33333333333333%\n",
      "    Tanque 1: 89%\n",
      "    Tanque 2: 78%\n",
      "    Tanque 3: 41%\n",
      "    \n"
     ]
    }
   ],
   "source": [
    "\n",
    "\n",
    "def reporte(tank1, tank2, tank3):\n",
    "    promedio = tank1 + tank2 + tank3\n",
    "    return f\"\"\"Reporte\n",
    "    Promedio: {promedio/3}%\n",
    "    Tanque 1: {tank1}%\n",
    "    Tanque 2: {tank2}%\n",
    "    Tanque 3: {tank3}%\n",
    "    \"\"\"\n",
    "print(reporte(89, 78, 41))\n",
    "\n",
    "\n",
    "  \n",
    " "
   ]
  },
  {
   "cell_type": "markdown",
   "metadata": {},
   "source": [
    "\n",
    "# Ejercicio 2: Trabajo con argumentos de palabra clave\n",
    "Ejercicio : Trabajar con argumentos de palabras clave en funciones\n",
    "\n",
    "En este ejercicio, construirás un informe de cohete que requiere varias piezas de información, como el tiempo hasta el destino, el combustible a la izquierda y el nombre del destino. Comienza por crear una función que creará un informe preciso de la misión:\n"
   ]
  },
  {
   "cell_type": "code",
   "execution_count": 63,
   "metadata": {},
   "outputs": [
    {
     "name": "stdout",
     "output_type": "stream",
     "text": [
      " Mision 2022\n",
      "    Destino: Marte \n",
      "    Tiempo hasta el destino: 129 horas\n",
      "    Combustible total: 68 litros\n",
      "  \n",
      "\n",
      "\n"
     ]
    }
   ],
   "source": [
    "def mision(destino_nombre, *tiempo_destino, **combustible):\n",
    "    reporte1 = f\"\"\" Mision 2022\n",
    "    Destino: {destino_nombre} \n",
    "    Tiempo hasta el destino: {sum(tiempo_destino)} horas\n",
    "    Combustible total: {sum(combustible.values())} litros\n",
    "  \n",
    "\n",
    "\"\"\"\n",
    "\n",
    "    return reporte1\n",
    "\n",
    "print(mision(\"Marte\", 54, 43, 32, tanque1 = 34, tanque2 = 34))"
   ]
  },
  {
   "cell_type": "code",
   "execution_count": null,
   "metadata": {},
   "outputs": [],
   "source": []
  }
 ],
 "metadata": {
  "interpreter": {
   "hash": "50c2a5a1a885c24c6de32af214cf0b81f5185693406bb64d658a21602c831da5"
  },
  "kernelspec": {
   "display_name": "Python 3.10.2 64-bit",
   "language": "python",
   "name": "python3"
  },
  "language_info": {
   "codemirror_mode": {
    "name": "ipython",
    "version": 3
   },
   "file_extension": ".py",
   "mimetype": "text/x-python",
   "name": "python",
   "nbconvert_exporter": "python",
   "pygments_lexer": "ipython3",
   "version": "3.10.2"
  },
  "orig_nbformat": 4
 },
 "nbformat": 4,
 "nbformat_minor": 2
}
